{
 "cells": [
  {
   "cell_type": "markdown",
   "metadata": {
    "collapsed": true
   },
   "source": [
    "# Homework 5\n"
   ]
  },
  {
   "cell_type": "markdown",
   "source": [
    "## 1.\n",
    "\n",
    "Given the following, can you prove that the unicorn is mythical? How about magical? Horned?\n",
    "\n",
    "If the unicorn is mythical, then it is immortal, but if it is not mythical, then it is a\n",
    "mortal mammal. If the unicorn is either immortal or a mammal, then it is horned.\n",
    "The unicorn is magical if it is horned.\n",
    "\n",
    "By plotting out potential ways the various propositions can interact it is clear that magical\n",
    "only is true if horned is true and that horned is always true. While horned and magical are both always\n",
    "true, we cannot prove that a unicorn is mythical.\n",
    "\n",
    "<img src=\"http://drive.google.com/uc?export=view&id=1-gQlMvbrXNeTrkJoiUFwTbd8eUy3thEk\">\n",
    "\n",
    "Implementing this in prolog would require conversion for sure. As you cannot\n",
    "use \"or\" in a rule head such as is stated in the text. Furthermore, due to \n",
    "prolog's use of horn clauses, there cannot be a negation in the head which the text \n",
    "also uses. Regardless of these other problems, we would have to do some extra work\n",
    "around our rules as if we ask \"horned.\" for instance prolog will not really be able to work with\n",
    "this as it needs facts defined."
   ],
   "metadata": {
    "collapsed": false
   }
  },
  {
   "cell_type": "markdown",
   "source": [
    "## 2.\n",
    "Exercise  2.4 Here are six Italian words:\n",
    "astante , astoria , baratto , cobalto , pistola , statale .\n",
    "They are to be arranged, crossword puzzle fashion, in the following grid:\n",
    "\n",
    "![XOR.jpg](http://www.learnprolognow.org/html/crosswd2.eps.png) \n",
    "\n",
    "The following knowledge base represents a lexicon containing these words:\n",
    "\n",
    "   word(astante,  a,s,t,a,n,t,e).\n",
    "   \n",
    "   word(astoria,  a,s,t,o,r,i,a).\n",
    "   \n",
    "   word(baratto,  b,a,r,a,t,t,o).\n",
    "   \n",
    "   word(cobalto,  c,o,b,a,l,t,o).\n",
    "   \n",
    "   word(pistola,  p,i,s,t,o,l,a).\n",
    "   \n",
    "   word(statale,  s,t,a,t,a,l,e).\n",
    "   \n",
    "Write a predicate crossword/6 that tells us how to fill in the grid. The first three arguments should be the vertical words from left to right, and the last three arguments the horizontal words from top to bottom."
   ],
   "metadata": {
    "collapsed": false,
    "pycharm": {
     "name": "#%% md\n"
    }
   }
  },
  {
   "cell_type": "code",
   "execution_count": 2,
   "outputs": [
    {
     "traceback": [
      "\u001b[1;36m  File \u001b[1;32m\"<ipython-input-2-8af7151dc7e6>\"\u001b[1;36m, line \u001b[1;32m1\u001b[0m\n\u001b[1;33m    word(astante,a,s,t,a,n,t,e).\u001b[0m\n\u001b[1;37m                                ^\u001b[0m\n\u001b[1;31mSyntaxError\u001b[0m\u001b[1;31m:\u001b[0m invalid syntax\n"
     ],
     "ename": "SyntaxError",
     "evalue": "invalid syntax (<ipython-input-2-8af7151dc7e6>, line 1)",
     "output_type": "error"
    }
   ],
   "source": [
    "%%crossword solver\n",
    "word(astante,a,s,t,a,n,t,e).\n",
    "word(astoria,a,s,t,o,r,i,a).\n",
    "word(baratto,b,a,r,a,t,t,o).\n",
    "word(cobalto,c,o,b,a,l,t,o).\n",
    "word(pistola,p,i,s,t,o,l,a).\n",
    "word(statale,s,t,a,t,a,l,e).\n",
    "\n",
    "crossword(V1,V2,V3,H1,H2,H3) :-\n",
    "    word(H1,_,H12,_,H14,_,H16,_),\n",
    "    word(H2,_,H22,_,H24,_,H26,_),\n",
    "    word(H3,_,H32,_,H34,_,H36,_),\n",
    "    word(V1,_,H12,_,H22,_,H32,_),\n",
    "    word(V2,_,H14,_,H24,_,H34,_),\n",
    "    word(V3,_,H16,_,H26,_,H36,_)."
   ],
   "metadata": {
    "collapsed": false,
    "pycharm": {
     "name": "#%%\n",
     "is_executing": false
    }
   }
  },
  {
   "cell_type": "code",
   "source": [
    "Prolog answer\n",
    "?- crossword(V1,V2,V3,H1,H2,H3).\n",
    "V1 = H1, H1 = astante,\n",
    "V2 = H2, H2 = baratto,\n",
    "V3 = H3, H3 = statale ;\n",
    "V1 = astoria,\n",
    "V2 = baratto,\n",
    "V3 = statale,\n",
    "H1 = astante,\n",
    "H2 = cobalto,\n",
    "H3 = pistola ;\n",
    "V1 = astante,\n",
    "V2 = cobalto,\n",
    "V3 = pistola,\n",
    "H1 = astoria,\n",
    "H2 = baratto,\n",
    "H3 = statale ;\n",
    "V1 = H1, H1 = astoria,\n",
    "V2 = H2, H2 = cobalto,\n",
    "V3 = H3, H3 = pistola ;\n",
    "V1 = V2, V2 = H1, H1 = H2, H2 = baratto,\n",
    "V3 = H3, H3 = statale ;\n",
    "V1 = H1, H1 = cobalto,\n",
    "V2 = H2, H2 = baratto,\n",
    "V3 = H3, H3 = statale ;"
   ],
   "metadata": {
    "collapsed": false,
    "pycharm": {
     "name": "#%% \n",
     "is_executing": false
    }
   },
   "execution_count": null,
   "outputs": []
  }
 ],
 "metadata": {
  "kernelspec": {
   "display_name": "Python 3",
   "language": "python",
   "name": "python3"
  },
  "language_info": {
   "codemirror_mode": {
    "name": "ipython",
    "version": 3
   },
   "file_extension": ".py",
   "mimetype": "text/x-python",
   "name": "python",
   "nbconvert_exporter": "python",
   "pygments_lexer": "ipython3",
   "version": "3.6.6"
  },
  "pycharm": {
   "stem_cell": {
    "cell_type": "raw",
    "source": [],
    "metadata": {
     "collapsed": false
    }
   }
  }
 },
 "nbformat": 4,
 "nbformat_minor": 1
}