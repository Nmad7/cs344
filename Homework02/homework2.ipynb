{
 "cells": [
  {
   "cell_type": "markdown",
   "metadata": {
    "collapsed": true
   },
   "source": [
    "# Homework 2"
   ]
  },
  {
   "cell_type": "markdown",
   "metadata": {},
   "source": [
    "## 1.1 \n",
    "\n"
   ]
  },
  {
   "cell_type": "code",
   "execution_count": 3,
   "metadata": {
    "pycharm": {
     "is_executing": false
    }
   },
   "outputs": [
    {
     "name": "stdout",
     "text": [
      "{'do': 0.3333333333333333, 'i': 0.5, 'like': 0.3333333333333333, 'green': 0.01, 'eggs': 0.01, 'and': 0.01, 'ham': 0.01, 'am': 0.99, 'spam': 0.99, 'not': 0.99, 'that': 0.99, 'spamiam': 0.99}\n"
     ],
     "output_type": "stream"
    }
   ],
   "source": [
    "def word_prob(good, bad, word, ngood, nbad):\n",
    "    '''\n",
    "    compute the probability that a word is spam\n",
    "    '''\n",
    "    g = 2 * good.get(word, 0)\n",
    "    b = bad.get(word, 0)\n",
    "    if g + b >= 1:\n",
    "        return max(0.01, min(0.99, min(1.0, b / nbad) / (min(1.0, g / ngood) + min(1.0, b / nbad))))\n",
    "    return -1\n",
    "\n",
    "\n",
    "def word_hash(corpus):\n",
    "    '''\n",
    "    create a hash for each word in a corpus of the number of times it appears\n",
    "    '''\n",
    "    word_hash = {}\n",
    "    for sample in corpus:\n",
    "        done = []\n",
    "        for word in sample:\n",
    "            # check if word in this sample has already been counted\n",
    "            if word not in done:\n",
    "                # check if word already has an entry and if so\n",
    "                # update the new count\n",
    "                if word in word_hash:\n",
    "                    word_hash[word] = sample.count(word) + word_hash[word]\n",
    "                else:\n",
    "                    word_hash[word] = sample.count(word)\n",
    "                done.append(word)\n",
    "    return word_hash\n",
    "\n",
    "\n",
    "def unique_counter(unique_list, corpus):\n",
    "    '''\n",
    "    add unique words from a corpus to a list\n",
    "    '''\n",
    "    for sample in corpus:\n",
    "        for word in sample:\n",
    "            # check if word in this sample has already been added\n",
    "            if word not in unique_list:\n",
    "                unique_list.append(word)\n",
    "    return unique_list\n",
    "\n",
    "\n",
    "def prob_hash(good, bad, ngood, nbad, word_list):\n",
    "    '''\n",
    "    find the probability a word means something is spam and put this value in a hash\n",
    "    '''\n",
    "    spam_prob = {}\n",
    "    for word in word_list:\n",
    "        spam_prob[word] = word_prob(good, bad, word, ngood, nbad)\n",
    "    return spam_prob\n",
    "\n",
    "\n",
    "# a corpus has to a be a list of lists which contain strings\n",
    "spam_corpus = [[\"i\", \"am\", \"spam\", \"spam\", \"i\", \"am\"], [\"i\", \"do\", \"not\", \"like\", \"that\", \"spamiam\"]]\n",
    "ham_corpus = [[\"do\", \"i\", \"like\", \"green\", \"eggs\", \"and\", \"ham\"], [\"i\", \"do\"]]\n",
    "\n",
    "# get unique words in a each corpus\n",
    "word_list = []\n",
    "word_list = unique_counter(word_list, ham_corpus)\n",
    "word_list = unique_counter(word_list, spam_corpus)\n",
    "\n",
    "# get count hashtable for each corpus\n",
    "spam_hash = word_hash(spam_corpus)\n",
    "ham_hash = word_hash(ham_corpus)\n",
    "# get size of each\n",
    "ngood = len(ham_corpus)\n",
    "nbad = len(spam_corpus)\n",
    "\n",
    "# generate a hash of word to probability an email with that word is spam\n",
    "spam_prob_hash = prob_hash(ham_hash, spam_hash, ngood, nbad, word_list)\n",
    "print(spam_prob_hash)\n"
   ]
  },
  {
   "cell_type": "markdown",
   "metadata": {
    "pycharm": {
     "name": "#%% md\n"
    }
   },
   "source": [
    "## 1.2\n",
    "This implementation of the spam filter is Baysian "
   ]
  },
  {
   "cell_type": "markdown",
   "source": [
    "## 2.1"
   ],
   "metadata": {
    "collapsed": false
   }
  },
  {
   "cell_type": "code",
   "execution_count": 4,
   "outputs": [
    {
     "name": "stdout",
     "text": [
      "False: 0.5, True: 0.5\n",
      "False: 0.9, True: 0.1\n",
      "False: 0.833, True: 0.167\n",
      "False: 0.028, True: 0.972\n",
      "False: 0.639, True: 0.361\n"
     ],
     "output_type": "stream"
    }
   ],
   "source": [
    "'''\n",
    "This module implements the Bayesian network shown in the text, Figure 14.12a.\n",
    "@student: Noah Madrid\n",
    "@date: 3-6-20\n",
    "'''\n",
    "\n",
    "from probability import BayesNet, enumeration_ask, elimination_ask, gibbs_ask\n",
    "\n",
    "# Utility variables\n",
    "T, F = True, False\n",
    "\n",
    "wet = BayesNet([\n",
    "    ('Cloudy', '', 0.5),\n",
    "    ('Sprinkler', 'Cloudy', {T: 0.1, F: 0.50}),\n",
    "    ('Rain', 'Cloudy', {T: 0.80, F: 0.2}),\n",
    "    ('WetGrass', 'Sprinkler Rain', {(T, T): 0.99, (T, F): 0.90, (F, T): 0.90, (F, F): 0.00})\n",
    "    ])\n",
    "\n",
    "# Compute P(cloudy)\n",
    "print(enumeration_ask('Cloudy', dict(), wet).show_approx())\n",
    "\n",
    "# Compute P(Sprinkler | cloudy)\n",
    "print(enumeration_ask('Sprinkler', dict(Cloudy=T), wet).show_approx())\n",
    "\n",
    "# Compute P(Cloudy| the sprinkler is running and it’s not raining)\n",
    "print(enumeration_ask('Cloudy', dict(Sprinkler=T, Raining=F), wet).show_approx())\n",
    "\n",
    "# Compute P(WetGrass | it’s cloudy, the sprinkler is running and it’s raining)\n",
    "print(enumeration_ask('WetGrass', dict(Cloudy=T, Sprinkler=T, Raining=T), wet).show_approx())\n",
    "\n",
    "# Compute P(Cloudy | the grass is not wet)\n",
    "print(enumeration_ask('Cloudy', dict(WetGrass=F), wet).show_approx())"
   ],
   "metadata": {
    "collapsed": false,
    "pycharm": {
     "name": "#%%\n",
     "is_executing": false
    }
   }
  },
  {
   "cell_type": "markdown",
   "source": [],
   "metadata": {
    "collapsed": false,
    "pycharm": {
     "name": "#%% md\n"
    }
   }
  }
 ],
 "metadata": {
  "kernelspec": {
   "display_name": "Python 3",
   "language": "python",
   "name": "python3"
  },
  "language_info": {
   "codemirror_mode": {
    "name": "ipython",
    "version": 3
   },
   "file_extension": ".py",
   "mimetype": "text/x-python",
   "name": "python",
   "nbconvert_exporter": "python",
   "pygments_lexer": "ipython3",
   "version": "3.6.6"
  },
  "pycharm": {
   "stem_cell": {
    "cell_type": "raw",
    "source": [],
    "metadata": {
     "collapsed": false
    }
   }
  }
 },
 "nbformat": 4,
 "nbformat_minor": 1
}