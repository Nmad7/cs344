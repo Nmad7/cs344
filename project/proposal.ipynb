{
 "cells": [
  {
   "cell_type": "markdown",
   "metadata": {
    "collapsed": true
   },
   "source": [
    "# Proposal Draft Updated"
   ]
  },
  {
   "cell_type": "markdown",
   "metadata": {
    "pycharm": {
     "name": "#%% md\n"
    }
   },
   "source": [
    "Throughout my time on the internet, one of the applications of neural networks that I have heard the most about is\n",
    "AI generated content. One of the terms that I have most often heard with AI generated content is GAN. \n",
    "Generative Adversarial Networks (or GAN) use two neural networks. The first neural network (called the generative network)\n",
    "creates something, and the second network (called the discriminative network) evaluates this created work and tries to\n",
    "determine if the work is AI generated or not. These two networks train against each other in a zero-sum game. \n",
    "The generative network's training objective is to increase the error rate of the discriminative network, while\n",
    "the discriminative network tries to decrease its error rate. Today, these types of neural networks are involved in upscaling, deepfakes, and many other applications and seem to be only increasing\n",
    "in use. Due to this, I want to gain experience in how these networks function by trying out creating my own AI to generate images.\n",
    "    \n",
    "In researching GAN, I found a very good tutorial for how to create this type of network in Keras (found here https://towardsdatascience.com/gan-by-example-using-keras-on-tensorflow-backend-1a6d515a60d0)\n",
    "and while in the article they build a network for use with the MNIST handwriting dataset, I would extend GAN to another\n",
    "data set to see how well I can build it anew. I want to use this with images just like the guide above, so It would make the most\n",
    "sense for me to employ a DCGAN structure, which uses convolutional neural networks to work with the images. I would like for my eventual model to be able to generate cat images,\n",
    "using a cat image dataset in order to train. In one of the google crash courses we used a dataset in classifying cats\n",
    "and dogs and I would therefore like to use either that dataset, or perhaps a bigger one of cats, for my dataset. I would hope\n",
    "that by the end of my project I could create a GAN model that could create decent cat photos that were not just carbon copies \n",
    "of ones shown to it earlier. I have also found another guide that is very close to my intended application which I will\n",
    "be referencing that generates dog images instead of cat images, https://towardsdatascience.com/dcgans-generating-dog-images-with-tensorflow-and-keras-fb51a1071432.\n"
   ]
  }
 ],
 "metadata": {
  "kernelspec": {
   "display_name": "Python 3",
   "language": "python",
   "name": "python3"
  },
  "language_info": {
   "codemirror_mode": {
    "name": "ipython",
    "version": 3
   },
   "file_extension": ".py",
   "mimetype": "text/x-python",
   "name": "python",
   "nbconvert_exporter": "python",
   "pygments_lexer": "ipython3",
   "version": "3.6.6"
  },
  "pycharm": {
   "stem_cell": {
    "cell_type": "raw",
    "source": [],
    "metadata": {
     "collapsed": false
    }
   }
  }
 },
 "nbformat": 4,
 "nbformat_minor": 1
}