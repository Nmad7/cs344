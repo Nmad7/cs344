{
 "cells": [
  {
   "cell_type": "markdown",
   "metadata": {
    "collapsed": true
   },
   "source": [
    "# Proposal Draft"
   ]
  },
  {
   "cell_type": "markdown",
   "metadata": {
    "pycharm": {
     "name": "#%% md\n"
    }
   },
   "source": [
    "Throughout my time on the internet, one of the applications of neural networks that I have heard the most about is\n",
    "AI generated content. One of the terms that I often heard with AI generated content was GAN. Generative Adversarial Networks\n",
    "use two neural networks, with the first neural network creating something, and the second evaluating the work. Today,\n",
    "these types of neural networks are involved in upscaling, deepfakes, and many other applications and seem to be only increasing\n",
    "in use. Due to this, I want to gain experience in how these networks function by trying out creating my own AI to generate images.\n",
    "    In researching GAN, I found a very good tutorial for how to create this type of network in Keras (found here https://towardsdatascience.com/gan-by-example-using-keras-on-tensorflow-backend-1a6d515a60d0)\n",
    "and while in the article they build a network for use with the MNIST handwriting dataset, I would extend GAN to another\n",
    "data set to see how well I can build it anew. I would like for my eventual model to be able to generate cat images\n",
    "using a cat image dataset in order to train. In one of the google crash courses we used a dataset in classifying cats\n",
    "and dogs and I would therefore like to use either that dataset, or perhaps a bigger one of cats, for my dataset. I would hope\n",
    "that by the end of my project I could create a GAN model that could create decent cat photos that were not just copies \n",
    "of ones shown to it earlier. "
   ]
  }
 ],
 "metadata": {
  "kernelspec": {
   "display_name": "Python 3",
   "language": "python",
   "name": "python3"
  },
  "language_info": {
   "codemirror_mode": {
    "name": "ipython",
    "version": 3
   },
   "file_extension": ".py",
   "mimetype": "text/x-python",
   "name": "python",
   "nbconvert_exporter": "python",
   "pygments_lexer": "ipython3",
   "version": "3.6.6"
  },
  "pycharm": {
   "stem_cell": {
    "cell_type": "raw",
    "source": [],
    "metadata": {
     "collapsed": false
    }
   }
  }
 },
 "nbformat": 4,
 "nbformat_minor": 1
}