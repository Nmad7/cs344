{
 "cells": [
  {
   "cell_type": "markdown",
   "metadata": {
    "collapsed": true
   },
   "source": [
    "# Homework 1"
   ]
  },
  {
   "cell_type": "markdown",
   "metadata": {},
   "source": [
    "## 1.1\n",
    "Using introspection alone to understand human cognitive processes would have limited usefulness as human cognitive \n",
    "processes are generally not conscious. For instance, trying to model the way a human throws a ball\n",
    "purely through introspection would be almost impossible as so much of our physical action happens unconsciously.\n",
    "Furthermore, It is common for people to not understand why they made a decision they made. Humans are often not\n",
    "privy to their own cognitive processes making it difficult to use introspection to\n",
    "gain much insight into our processes. When trying to make an AI that follows\n",
    "the human thinking approach, introspection would have some usefulness but should probably be combined with other methods\n",
    "of understanding the human mind."
   ]
  },
  {
   "cell_type": "markdown",
   "metadata": {},
   "source": [
    "## 1.2\n",
    "\n",
    "Each state in my formulation is a list of cities, a path the salesman\n",
    "would go along. Each path, even after actions done to it, should always\n",
    "have the same starting and end point. The action the formulation can \n",
    "take is to swap two neighboring in the path cities in the order (as they are all interconnected).\n",
    "In order to calculate the value, I am using the search.py graph class's get()\n",
    "function which returns the distance between two nodes (which is also what I am using to place the cities randomly). \n",
    "I than multiply this by -1 to have the algorithms head towards the lowest value.\n",
    "\n"
   ]
  },
  {
   "cell_type": "code",
   "execution_count": 4,
   "metadata": {
    "pycharm": {
     "is_executing": false
    }
   },
   "outputs": [],
   "source": [
    "\"\"\"\n",
    "This implements a local-search version of TSP for AIMA-Python.\n",
    "@author: Noah Madrid\n",
    "\"\"\"\n",
    "from search import Problem, hill_climbing, simulated_annealing, exp_schedule, RandomGraph\n",
    "import random\n",
    "\n",
    "class TSP(Problem):\n",
    "    \"\"\"An implementation of TSP for local search.\n",
    "        State representation:\n",
    "            [city0, city1, city2]\n",
    "        Move representation:\n",
    "            [index0, index1]: Swap the city in the given path index with the city in the other index.\n",
    "    \"\"\"\n",
    "    def __init__(self, initialPath, cityGraph):\n",
    "        self.initial = initialPath\n",
    "        self.cityGraph = cityGraph\n",
    "\n",
    "    def actions(self, state):\n",
    "        \"\"\"Actions: swap two cities next to each other in the path (as long as the first and last city are not altered)\n",
    "        \"\"\"\n",
    "        actions = []\n",
    "        for i in range(1, len(state)-2):\n",
    "            newPath = state[:]\n",
    "            newPath[i], newPath[i+1] = newPath[i+1], newPath[i]\n",
    "            actions.append(newPath)\n",
    "        return actions\n",
    "\n",
    "    def result(self, state, move):\n",
    "        \"\"\"Makes the given move.\"\"\"\n",
    "        return move\n",
    "\n",
    "    def value(self, state):\n",
    "        \"\"\"This method computes a value of given state using distance traveled\n",
    "        \"\"\"\n",
    "        value = 0;\n",
    "        for i in range(len(state)-1):\n",
    "            value = value + cityGraph.get(state[i],state[i+1])\n",
    "        # multiply by one to pursue the lowest value\n",
    "        return -1 * value"
   ]
  },
  {
   "cell_type": "markdown",
   "metadata": {},
   "source": [
    "Describe your sample city-domain and how your code does on it."
   ]
  },
  {
   "cell_type": "code",
   "execution_count": 5,
   "metadata": {
    "pycharm": {
     "is_executing": false
    }
   },
   "outputs": [
    {
     "name": "stdout",
     "text": [
      "Cities:\t\t20\n",
      "Starting path:\t['10', '15', '1', '0', '12', '9', '7', '5', '19', '4', '14', '16', '8', '13', '6', '11', '2', '3', '18', '17', '10']\n",
      "\n",
      "Hill-climbing:\n",
      "\tSolution:\t['10', '1', '15', '0', '9', '7', '12', '5', '19', '4', '14', '8', '16', '13', '6', '11', '2', '17', '18', '3', '10']\n",
      "\tValue:\t\t-113380\n",
      "\n",
      "Simulated annealing:\n",
      "\tSolution:\t['10', '1', '15', '12', '0', '9', '7', '5', '19', '4', '14', '8', '16', '13', '6', '11', '2', '17', '18', '3', '10']\n",
      "\tValue:\t\t-120711\n"
     ],
     "output_type": "stream"
    }
   ],
   "source": [
    "if __name__ == '__main__':\n",
    "    # Set the number of cities\n",
    "    cityAmount = 20\n",
    "    print('Cities:\\t\\t' + str(cityAmount))\n",
    "\n",
    "    # Create unique city ids and add them to city list\n",
    "    cityList = []\n",
    "    for i in range(cityAmount):\n",
    "        cityList.append(str(i))\n",
    "\n",
    "    # Create a random graph using search RandomGraph()\n",
    "    cityGraph = RandomGraph(cityList, cityAmount-1, 10000, 10000)\n",
    "\n",
    "    # Initialize initial path randomly\n",
    "    path = random.sample(cityGraph.nodes(), len(cityGraph.nodes()))\n",
    "\n",
    "    # Add first city as the last city to make it the destination\n",
    "    path.append(path[0])\n",
    "    print('Starting path:\\t' + str(path))\n",
    "\n",
    "    p = TSP(path,cityGraph)\n",
    "\n",
    "    # Solve the problem using hill climbing.\n",
    "    hill_solution = hill_climbing(p)\n",
    "    print('\\nHill-climbing:')\n",
    "    print('\\tSolution:\\t' + str(hill_solution))\n",
    "    print('\\tValue:\\t\\t' + str(p.value(hill_solution)))\n",
    "\n",
    "    # Solve the problem using simulated annealing.\n",
    "    annealing_solution = \\\n",
    "        simulated_annealing(p, exp_schedule(k=20, lam=0.005, limit=10000))\n",
    "    print('\\nSimulated annealing:')\n",
    "    print('\\tSolution:\\t' + str(annealing_solution))\n",
    "    print('\\tValue:\\t\\t' + str(p.value(annealing_solution)))"
   ]
  },
  {
   "cell_type": "markdown",
   "metadata": {},
   "source": [
    "Both Problems result in an answer very quickly at small city numbers but generally hill climbing\n",
    "results in a better answer (at least with a relatively small number of cities I have tested), \n",
    "possibly because this problem does not have very many local maximums."
   ]
  },
  {
   "cell_type": "markdown",
   "metadata": {},
   "source": [
    "## 1.3\n",
    "\n",
    "Follow the same pattern for this problem."
   ]
  },
  {
   "cell_type": "code",
   "execution_count": 6,
   "metadata": {
    "pycharm": {
     "is_executing": false
    }
   },
   "outputs": [
    {
     "name": "stdout",
     "text": [
      "Here's yet more code.\n"
     ],
     "output_type": "stream"
    }
   ],
   "source": [
    "print('Here\\'s yet more code.')"
   ]
  }
 ],
 "metadata": {
  "kernelspec": {
   "display_name": "Python 3",
   "language": "python",
   "name": "python3"
  },
  "language_info": {
   "codemirror_mode": {
    "name": "ipython",
    "version": 3
   },
   "file_extension": ".py",
   "mimetype": "text/x-python",
   "name": "python",
   "nbconvert_exporter": "python",
   "pygments_lexer": "ipython3",
   "version": "3.6.6"
  },
  "pycharm": {
   "stem_cell": {
    "cell_type": "raw",
    "source": [],
    "metadata": {
     "collapsed": false
    }
   }
  }
 },
 "nbformat": 4,
 "nbformat_minor": 1
}