{
 "cells": [
  {
   "cell_type": "markdown",
   "metadata": {
    "collapsed": true
   },
   "source": [
    "# Homework 1"
   ]
  },
  {
   "cell_type": "markdown",
   "metadata": {},
   "source": [
    "## 1.1\n",
    "Using introspection alone to understand human cognitive processes would have limited usefulness as human cognitive \n",
    "processes are generally not conscious. For instance, trying to model the way a human throws a ball\n",
    "purely through introspection would be almost impossible as so much of our physical action happens unconsciously.\n",
    "Furthermore, It is common for people to not understand why they made a decision they made. Humans are often not\n",
    "privy to their own cognitive processes making it difficult to use introspection to\n",
    "gain much insight into our processes. When trying to make an AI that follows\n",
    "the human thinking approach, introspection would have some usefulness but should probably be combined with other methods\n",
    "of understanding the human mind."
   ]
  },
  {
   "cell_type": "markdown",
   "metadata": {},
   "source": [
    "## 1.2\n",
    "\n",
    "Each state in my formulation is a list of cities, a path the salesman\n",
    "would go along. Each path, even after actions done to it, should always\n",
    "have the same starting and end point. The action the formulation can \n",
    "take is to swap two neighboring in the path cities in the order (as they are all interconnected).\n",
    "In order to calculate the value, I am using the search.py graph class's get()\n",
    "function which returns the distance between two nodes (which is also what I am using to place the cities randomly). \n",
    "I than multiply this by -1 to have the algorithms head towards the lowest value.\n",
    "\n"
   ]
  },
  {
   "cell_type": "code",
   "execution_count": 3,
   "metadata": {
    "pycharm": {
     "is_executing": false
    }
   },
   "outputs": [],
   "source": [
    "from search import Problem, hill_climbing, simulated_annealing, exp_schedule, RandomGraph\n",
    "import random\n",
    "\n",
    "class TSP(Problem):\n",
    "    \"\"\"An implementation of TSP for local search.\n",
    "        State representation:\n",
    "            [city0, city1, city2]\n",
    "        Move representation:\n",
    "            [index0, index1]: Swap the city in the given path index with the city in the other index.\n",
    "    \"\"\"\n",
    "    def __init__(self, initialPath, cityGraph):\n",
    "        self.initial = initialPath\n",
    "        self.cityGraph = cityGraph\n",
    "\n",
    "    def actions(self, state):\n",
    "        \"\"\"Actions: swap two cities next to each other in the path (as long as the first and last city are not altered)\n",
    "        \"\"\"\n",
    "        actions = []\n",
    "        for i in range(1, len(state)-2):\n",
    "            newPath = state[:]\n",
    "            newPath[i], newPath[i+1] = newPath[i+1], newPath[i]\n",
    "            actions.append(newPath)\n",
    "        return actions\n",
    "\n",
    "    def result(self, state, move):\n",
    "        \"\"\"Makes the given move.\"\"\"\n",
    "        return move\n",
    "\n",
    "    def value(self, state):\n",
    "        \"\"\"This method computes a value of given state using distance traveled\n",
    "        \"\"\"\n",
    "        value = 0;\n",
    "        for i in range(len(state)-1):\n",
    "            value = value + cityGraph.get(state[i],state[i+1])\n",
    "        # multiply by one to pursue the lowest value\n",
    "        return -1 * value"
   ]
  },
  {
   "cell_type": "code",
   "execution_count": 4,
   "metadata": {
    "pycharm": {
     "is_executing": false
    }
   },
   "outputs": [
    {
     "name": "stdout",
     "text": [
      "Cities:\t\t20\n",
      "Starting path:\t['14', '5', '4', '0', '9', '7', '18', '2', '11', '8', '10', '13', '15', '1', '12', '6', '3', '16', '17', '19', '14']\n",
      "\n",
      "Hill-climbing:\n",
      "\tSolution:\t['14', '5', '4', '0', '9', '7', '18', '11', '2', '1', '8', '10', '13', '15', '12', '6', '3', '16', '17', '19', '14']\n",
      "\tValue:\t\t-101010\n",
      "\n",
      "Simulated annealing:\n",
      "\tSolution:\t['14', '5', '4', '0', '9', '7', '18', '11', '10', '2', '8', '13', '15', '12', '1', '6', '3', '16', '17', '19', '14']\n",
      "\tValue:\t\t-112266\n"
     ],
     "output_type": "stream"
    }
   ],
   "source": [
    "# Set the number of cities\n",
    "cityAmount = 20\n",
    "print('Cities:\\t\\t' + str(cityAmount))\n",
    "\n",
    "# Create unique city ids and add them to city list\n",
    "cityList = []\n",
    "for i in range(cityAmount):\n",
    "    cityList.append(str(i))\n",
    "\n",
    "# Create a random graph using search RandomGraph()\n",
    "cityGraph = RandomGraph(cityList, cityAmount-1, 10000, 10000)\n",
    "\n",
    "# Initialize initial path randomly\n",
    "path = random.sample(cityGraph.nodes(), len(cityGraph.nodes()))\n",
    "\n",
    "# Add first city as the last city to make it the destination\n",
    "path.append(path[0])\n",
    "print('Starting path:\\t' + str(path))\n",
    "\n",
    "p = TSP(path,cityGraph)\n",
    "\n",
    "# Solve the problem using hill climbing.\n",
    "hill_solution = hill_climbing(p)\n",
    "print('\\nHill-climbing:')\n",
    "print('\\tSolution:\\t' + str(hill_solution))\n",
    "print('\\tValue:\\t\\t' + str(p.value(hill_solution)))\n",
    "\n",
    "# Solve the problem using simulated annealing.\n",
    "annealing_solution = \\\n",
    "    simulated_annealing(p, exp_schedule(k=20, lam=0.005, limit=10000))\n",
    "print('\\nSimulated annealing:')\n",
    "print('\\tSolution:\\t' + str(annealing_solution))\n",
    "print('\\tValue:\\t\\t' + str(p.value(annealing_solution)))"
   ]
  },
  {
   "cell_type": "markdown",
   "metadata": {},
   "source": [
    "My sample city domain is randomly generated using the pre-made RandomGraph function provided in search (I also make a random path\n",
    "with the start and end being the same city). After trying hill-climbing and simulated annealing on my city,\n",
    "both searches result in an answer very quickly at small city numbers but generally hill climbing\n",
    "results in a better answer (at least with a relatively small number of cities I have tested), \n",
    "possibly because this problem (at least in the interconnected manner we formulated it) does not have very many local maximums."
   ]
  },
  {
   "cell_type": "markdown",
   "metadata": {},
   "source": [
    "## 1.3\n",
    "My formulation of the course_scheduling problem uses one variable, course, which has two values: its room and its \n",
    "time slot. Course assignments are also required to check in the course constraint. I chose one variable, the course, \n",
    "as this ensures that each course will only occur once. I thought about adding a professor value to the domain but\n",
    "I realized that this was unnecessary as problems with professors only occur if they are teaching two classes at the same time which can be easily checked in the \n",
    "course_constraint function. \n"
   ]
  },
  {
   "cell_type": "code",
   "execution_count": 5,
   "metadata": {
    "pycharm": {
     "is_executing": false
    }
   },
   "outputs": [],
   "source": [
    "import itertools\n",
    "from csp import CSP, backtracking_search\n",
    "\n",
    "\n",
    "def course_scheduling(courses, course_assignments, rooms, time_slots):\n",
    "    \"\"\"Return an instance our cs course scheduling problem.\"\"\"\n",
    "    variables = courses\n",
    "    domains = {}\n",
    "    domains.fromkeys(variables)\n",
    "    for course in range(len(courses)):\n",
    "        # give each course a list within which to put all possible values it can have\n",
    "        domains[courses[course]] = list(itertools.product(rooms, time_slots))\n",
    "\n",
    "    # every course is every other courses' neighbor\n",
    "    neighbors = {}\n",
    "    for course in courses:\n",
    "        neighbors[course] = [other_course for other_course in courses if other_course != course]\n",
    "\n",
    "    def course_constraint(A, a, B, b):\n",
    "        if a[1] == b[1]:\n",
    "            # The time is the same\n",
    "            if a[0] == b[0]:\n",
    "                # Two classes take place at the same place at the same time\n",
    "                return False\n",
    "            if course_assignments[A] == course_assignments[B]:\n",
    "                # You have a professor at two places at the same time\n",
    "                return False\n",
    "        return True\n",
    "\n",
    "    return CSP(variables, domains, neighbors, course_constraint)"
   ]
  },
  {
   "cell_type": "markdown",
   "source": [
    "Here I demonstrate my problem works with backtracking search and results in a good answer for the provided schedule requirements."
   ],
   "metadata": {
    "collapsed": false
   }
  },
  {
   "cell_type": "code",
   "execution_count": 6,
   "outputs": [
    {
     "name": "stdout",
     "text": [
      "Backtracking Solution:\n",
      "\n",
      "{'cs108': [('nh253', 'tth900')], 'cs112': [('sb382', 'mwf900')], 'cs212': [('nh253', 'mwf1130')], 'cs214': [('sb382', 'mwf1130')], 'cs232': [('nh253', 'tth1030')], 'cs344': [('nh253', 'mwf900')]}\n"
     ],
     "output_type": "stream"
    }
   ],
   "source": [
    "courses = 'cs108 cs112 cs212 cs214 cs232 cs344'.split()\n",
    "course_assignments = {'cs108': 'Dschuurman', 'cs112': 'Adams', 'cs212': 'Dschuurman', 'cs214': 'Adams', 'cs232': 'Norman', 'cs344': 'VanderLinden'}\n",
    "rooms = 'nh253 sb382'.split()\n",
    "time_slots = 'mwf900 mwf1130 tth900 tth1030'.split()\n",
    "p = course_scheduling(courses, course_assignments, rooms, time_slots)\n",
    "# backtracking search\n",
    "back_result = backtracking_search(p)\n",
    "if p.goal_test(p.infer_assignment()):\n",
    "    print(\"Backtracking Solution:\\n\")\n",
    "    print(p.curr_domains)\n",
    "else:\n",
    "    print(\"Backtracking failed...\")\n",
    "    print(p.curr_domains)"
   ],
   "metadata": {
    "collapsed": false,
    "pycharm": {
     "name": "#%%\n",
     "is_executing": false
    }
   }
  }
 ],
 "metadata": {
  "kernelspec": {
   "display_name": "Python 3",
   "language": "python",
   "name": "python3"
  },
  "language_info": {
   "codemirror_mode": {
    "name": "ipython",
    "version": 3
   },
   "file_extension": ".py",
   "mimetype": "text/x-python",
   "name": "python",
   "nbconvert_exporter": "python",
   "pygments_lexer": "ipython3",
   "version": "3.6.6"
  },
  "pycharm": {
   "stem_cell": {
    "cell_type": "raw",
    "source": [],
    "metadata": {
     "collapsed": false
    }
   }
  }
 },
 "nbformat": 4,
 "nbformat_minor": 1
}