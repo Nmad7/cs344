{
 "cells": [
  {
   "cell_type": "markdown",
   "metadata": {
    "collapsed": true
   },
   "source": [
    "# Homework 3"
   ]
  },
  {
   "cell_type": "markdown",
   "metadata": {},
   "source": [
    "## 1.  Information Gain of Price\n",
    "Gain(Price)= Entropy(restaurant) - Remainder(price?)\n",
    "\n",
    "Remainder(price?)= 7/12×entropy(cheap) + 2/12×entropy(medium) + 3/12×entropy(expensive)  \n",
    "\n",
    "Remainder(price?)= 7/12(-1(3/7×log2(3/7)+4/7×log2(4/7))) + 2/12(-1(2/2×log2(2/2) + 0)) + 3/12(-1(1/3×log2(1/3) + 2/3×log2(2/3)))\n",
    "\n",
    "Remainder(price?)= .8042903712\n",
    "\n",
    "Gain(Price) = 1 - .8042903712 = .1957096288‬\n",
    "\n",
    "We gain more information from Patrons than from Price, but\n",
    "Price gains more information than Type which gives none."
   ]
  },
  {
   "cell_type": "markdown",
   "metadata": {
    "pycharm": {
     "name": "#%% md\n"
    }
   },
   "source": [
    "## 2. XOR neural network\n"
   ]
  },
  {
   "cell_type": "markdown",
   "source": [
    "## 3. Boston Housing Dataset\n",
    "## a. Compute the dimensions of the data structures. Include code to print these values.\n"
   ],
   "metadata": {
    "collapsed": false,
    "pycharm": {
     "name": "#%% md\n"
    }
   }
  }
 ],
 "metadata": {
  "kernelspec": {
   "display_name": "Python 3",
   "language": "python",
   "name": "python3"
  },
  "language_info": {
   "codemirror_mode": {
    "name": "ipython",
    "version": 3
   },
   "file_extension": ".py",
   "mimetype": "text/x-python",
   "name": "python",
   "nbconvert_exporter": "python",
   "pygments_lexer": "ipython3",
   "version": "3.6.6"
  },
  "pycharm": {
   "stem_cell": {
    "cell_type": "raw",
    "source": [],
    "metadata": {
     "collapsed": false
    }
   }
  }
 },
 "nbformat": 4,
 "nbformat_minor": 1
}