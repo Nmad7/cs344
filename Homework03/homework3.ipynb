{
 "cells": [
  {
   "cell_type": "markdown",
   "metadata": {
    "collapsed": true
   },
   "source": [
    "# Homework 3"
   ]
  },
  {
   "cell_type": "markdown",
   "metadata": {},
   "source": [
    "## 1.  Information Gain of Price\n",
    "Gain(Price)= Entropy(restaurant) - Remainder(price?)\n",
    "\n",
    "Remainder(price?)= 7/12×entropy(cheap) + 2/12×entropy(medium) + 3/12×entropy(expensive)  \n",
    "\n",
    "Remainder(price?)= 7/12(-1(3/7×log2(3/7)+4/7×log2(4/7))) + 2/12(-1(2/2×log2(2/2) + 0)) + 3/12(-1(1/3×log2(1/3) + 2/3×log2(2/3)))\n",
    "\n",
    "Remainder(price?)= .8042903712"
   ]
  },
  {
   "cell_type": "markdown",
   "source": [
    "## 2. XOR neural network\n"
   ],
   "metadata": {
    "collapsed": false
   }
  },
  {
   "cell_type": "markdown",
   "source": [
    "## 3. Boston Housing Dataset"
   ],
   "metadata": {
    "collapsed": false
   }
  },
  {
   "cell_type": "code",
   "execution_count": null,
   "outputs": [],
   "source": [
    "# code to print dimensions\n",
    "def printDataStructureInfo(Input_Dataset):\n",
    "    print(\n",
    "        'count: {} \\\n",
    "        \\ndimensions: {} \\\n",
    "        \\nshape: {} \\\n",
    "        \\n'.format(\n",
    "            len(Input_Dataset),\n",
    "            Input_Dataset.ndim,\n",
    "            Input_Dataset.shape\n",
    "        ),\n",
    "    )"
   ],
   "metadata": {
    "collapsed": false,
    "pycharm": {
     "name": "#%%\n"
    }
   }
  },
  {
   "cell_type": "markdown",
   "source": [
    "Gain(Price) = 1 - .8042903712 = .1957096288‬\n",
    "\n",
    "We gain more information from Patrons than from Price, but\n",
    "Price gains more information than Type which gives none.\n",
    "\n",
    "There are many ways of loading in data and splitting it for Keras. I chose to use numpy split."
   ],
   "metadata": {
    "collapsed": false
   }
  },
  {
   "cell_type": "code",
   "execution_count": 18,
   "outputs": [
    {
     "name": "stdout",
     "text": [
      "Boston Housing\n",
      "count: 506         \n",
      "dimensions: 2         \n",
      "shape: (506, 14)         \n",
      "\n",
      "trainging_target\n",
      "count: 328         \n",
      "dimensions: 1         \n",
      "shape: (328,)         \n",
      "\n",
      "training_data\n",
      "count: 328         \n",
      "dimensions: 2         \n",
      "shape: (328, 13)         \n",
      "\n",
      "validate\n",
      "count: 76         \n",
      "dimensions: 2         \n",
      "shape: (76, 13)         \n",
      "\n",
      "testing\n",
      "count: 102         \n",
      "dimensions: 2         \n",
      "shape: (102, 13)         \n",
      "\n"
     ],
     "output_type": "stream"
    }
   ],
   "source": [
    "import numpy as np\n",
    "from keras.datasets import boston_housing\n",
    "from keras import models\n",
    "from keras import layers\n",
    "import pandas as pd\n",
    "\n",
    "df = pd.read_csv(\"https://raw.githubusercontent.com/selva86/datasets/master/BostonHousing.csv\")\n",
    "\n",
    "print(\"Boston Housing\")\n",
    "printDataStructureInfo(df)\n",
    "\n",
    "# uses numpy split and sample to randomize the data\n",
    "# leaves the first 65% for the training, from 65% to 80% for the validation, and from 80% to the end for the test data\n",
    "training, validate, testing = np.split(df.sample(frac=1), [int(.65*len(df)), int(.80*len(df))])\n",
    "# split target data\n",
    "training_data = training.values[:,0:13]\n",
    "validate_data = validate.values[:,0:13]\n",
    "testing_data = testing.values[:,0:13]\n",
    "training_targets = training.values[:,13]\n",
    "validate_targets = validate.values[:,13]\n",
    "testing_targets = testing.values[:,13]\n",
    "\n",
    "# Final part of question a in demonstrating printing works\n",
    "print(\"trainging_target\")\n",
    "printDataStructureInfo(training_targets)\n",
    "print(\"training_data\")\n",
    "printDataStructureInfo(training_data)\n",
    "print(\"validate\")\n",
    "printDataStructureInfo(validate_data)\n",
    "print(\"testing\")\n",
    "printDataStructureInfo(testing_data)"
   ],
   "metadata": {
    "collapsed": false,
    "pycharm": {
     "name": "#%%\n",
     "is_executing": false
    }
   }
  },
  {
   "cell_type": "markdown",
   "source": [],
   "metadata": {
    "collapsed": false
   }
  }
 ],
 "metadata": {
  "kernelspec": {
   "display_name": "Python 3",
   "language": "python",
   "name": "python3"
  },
  "language_info": {
   "codemirror_mode": {
    "name": "ipython",
    "version": 3
   },
   "file_extension": ".py",
   "mimetype": "text/x-python",
   "name": "python",
   "nbconvert_exporter": "python",
   "pygments_lexer": "ipython3",
   "version": "3.6.6"
  },
  "pycharm": {
   "stem_cell": {
    "cell_type": "raw",
    "source": [],
    "metadata": {
     "collapsed": false
    }
   }
  }
 },
 "nbformat": 4,
 "nbformat_minor": 1
}